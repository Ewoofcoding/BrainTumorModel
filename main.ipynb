{
 "cells": [
  {
   "cell_type": "code",
   "execution_count": null,
   "metadata": {
    "vscode": {
     "languageId": "plaintext"
    }
   },
   "outputs": [],
   "source": [
    "\n",
    "'''\n",
    "# Downloading the data files from kaggle\n",
    "\n",
    "from google.colab import files\n",
    "files.upload() # Upload your kaggel api.json file\n",
    "!ls\n",
    "\n",
    "!pip install kaggle\n",
    "!mkdir -p ~/.kaggle\n",
    "!cp kaggle.json ~/.kaggle/\n",
    "!chmod 600 ~/.kaggle/kaggle.json\n",
    "!kaggle datasets download -d masoudnickparvar/brain-tumor-mri-dataset\n",
    "!unzip brain-tumor-mri-dataset.zip\n",
    "'''"
   ]
  }
 ],
 "metadata": {
  "language_info": {
   "name": "python"
  }
 },
 "nbformat": 4,
 "nbformat_minor": 2
}
